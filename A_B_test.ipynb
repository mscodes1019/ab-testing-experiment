{
 "cells": [
  {
   "cell_type": "markdown",
   "metadata": {
    "id": "pgo8hh3DWwbD"
   },
   "source": [
    "# Import the necessary package\n"
   ]
  },
  {
   "cell_type": "code",
   "execution_count": null,
   "metadata": {
    "colab": {
     "base_uri": "https://localhost:8080/"
    },
    "executionInfo": {
     "elapsed": 4141,
     "status": "ok",
     "timestamp": 1747154108909,
     "user": {
      "displayName": "Monsurat Ayinde",
      "userId": "05966657769053220174"
     },
     "user_tz": -60
    },
    "id": "FeFzKI5KMA-d",
    "outputId": "964875ff-e46c-4205-92eb-55965af2db3a"
   },
   "outputs": [],
   "source": [
    "#Install the country-converter\n",
    "\n",
    "!pip install country-converter\n"
   ]
  },
  {
   "cell_type": "code",
   "execution_count": null,
   "metadata": {
    "id": "gNT-M2zPUjfD"
   },
   "outputs": [],
   "source": [
    "import pandas as pd\n",
    "import plotly.express as px\n",
    "from country_converter import CountryConverter\n",
    "\n"
   ]
  },
  {
   "cell_type": "code",
   "execution_count": null,
   "metadata": {
    "colab": {
     "base_uri": "https://localhost:8080/",
     "height": 206
    },
    "executionInfo": {
     "elapsed": 104,
     "status": "ok",
     "timestamp": 1747154109078,
     "user": {
      "displayName": "Monsurat Ayinde",
      "userId": "05966657769053220174"
     },
     "user_tz": -60
    },
    "id": "Se8YNu4dXG7A",
    "outputId": "bcbafd19-5263-4928-9eab-ae9cba52f1d4"
   },
   "outputs": [],
   "source": [
    "df = pd.read_csv(\"mydata/admissions_dataset.csv\")\n",
    "df.head()"
   ]
  },
  {
   "cell_type": "code",
   "execution_count": null,
   "metadata": {
    "colab": {
     "base_uri": "https://localhost:8080/"
    },
    "executionInfo": {
     "elapsed": 11,
     "status": "ok",
     "timestamp": 1747154109108,
     "user": {
      "displayName": "Monsurat Ayinde",
      "userId": "05966657769053220174"
     },
     "user_tz": -60
    },
    "id": "sTmqOv_NXssa",
    "outputId": "ef6b3a91-98ae-4cee-c1d8-dd8204819098"
   },
   "outputs": [],
   "source": [
    "df.shape"
   ]
  },
  {
   "cell_type": "code",
   "execution_count": null,
   "metadata": {
    "colab": {
     "base_uri": "https://localhost:8080/",
     "height": 366
    },
    "executionInfo": {
     "elapsed": 40,
     "status": "ok",
     "timestamp": 1747154109150,
     "user": {
      "displayName": "Monsurat Ayinde",
      "userId": "05966657769053220174"
     },
     "user_tz": -60
    },
    "id": "11TgSCruXzB-",
    "outputId": "f09b2b13-978c-4c2b-b9f6-6e25ee9786da"
   },
   "outputs": [],
   "source": [
    "df.isnull().sum()"
   ]
  },
  {
   "cell_type": "markdown",
   "metadata": {
    "id": "trksu_xuX-0N"
   },
   "source": [
    "# Aggregate Applicant by country"
   ]
  },
  {
   "cell_type": "code",
   "execution_count": null,
   "metadata": {
    "colab": {
     "base_uri": "https://localhost:8080/"
    },
    "executionInfo": {
     "elapsed": 31,
     "status": "ok",
     "timestamp": 1747154109183,
     "user": {
      "displayName": "Monsurat Ayinde",
      "userId": "05966657769053220174"
     },
     "user_tz": -60
    },
    "id": "05gL38TVX42p",
    "outputId": "c5921125-a7b4-44b5-c0e2-bdb43c36a960"
   },
   "outputs": [],
   "source": [
    "df_nationality = df[\"CountryISO2\"].value_counts(ascending=False)\n",
    "df_nationality_df = df_nationality.reset_index()\n",
    "df_nationality_df.columns = ['CountryISO2', 'Count']\n",
    "\n",
    "print(df_nationality_df)"
   ]
  },
  {
   "cell_type": "markdown",
   "metadata": {
    "id": "rCpq1Ky8cWJS"
   },
   "source": [
    "# data enrichment using the countryconverter library"
   ]
  },
  {
   "cell_type": "code",
   "execution_count": null,
   "metadata": {
    "colab": {
     "base_uri": "https://localhost:8080/",
     "height": 331
    },
    "executionInfo": {
     "elapsed": 102,
     "status": "ok",
     "timestamp": 1747154109287,
     "user": {
      "displayName": "Monsurat Ayinde",
      "userId": "05966657769053220174"
     },
     "user_tz": -60
    },
    "id": "r3AeoQR0YZr5",
    "outputId": "9d340f27-b3c7-48b2-bc58-9441f184bcbe"
   },
   "outputs": [],
   "source": [
    "cc = CountryConverter()\n",
    "df_nationality_df[\"country_name\"] = cc.convert(df_nationality_df[\"CountryISO2\"], to=\"name_short\")\n",
    "df_nationality_df"
   ]
  },
  {
   "cell_type": "markdown",
   "metadata": {
    "id": "Vd63RI5RhQ1v"
   },
   "source": [
    "# Applicant Nationality Barchart"
   ]
  },
  {
   "cell_type": "code",
   "execution_count": null,
   "metadata": {
    "colab": {
     "base_uri": "https://localhost:8080/",
     "height": 542
    },
    "executionInfo": {
     "elapsed": 3080,
     "status": "ok",
     "timestamp": 1747154112363,
     "user": {
      "displayName": "Monsurat Ayinde",
      "userId": "05966657769053220174"
     },
     "user_tz": -60
    },
    "id": "YLqKupbie9t_",
    "outputId": "e4ecc910-4f8d-479a-c692-c0b0f836f56b"
   },
   "outputs": [],
   "source": [
    "# create a horizontal barchart\n",
    "fig = px.bar(data_frame= df_nationality_df,\n",
    "             x = \"Count\",\n",
    "             y=\"country_name\",\n",
    "             orientation=\"h\",\n",
    "             title = \"Applicants: Nationality\"\n",
    ")\n",
    "# Set axis labels\n",
    "fig.update_layout(xaxis_title=\"Frequency [count]\", yaxis_title=\"Country\",\n",
    "                   yaxis=dict(\n",
    "        categoryorder='total ascending'  # 'ascending' puts the largest value at the top for horizontal bars\n",
    "    )\n",
    ")\n",
    "# Show the plot\n",
    "fig.show()"
   ]
  },
  {
   "cell_type": "markdown",
   "metadata": {
    "id": "EnHBN_UrlJWD"
   },
   "source": [
    "# Normalize Nationality"
   ]
  },
  {
   "cell_type": "markdown",
   "metadata": {
    "id": "gOwL5QdrlJId"
   },
   "source": []
  },
  {
   "cell_type": "code",
   "execution_count": null,
   "metadata": {
    "colab": {
     "base_uri": "https://localhost:8080/",
     "height": 331
    },
    "executionInfo": {
     "elapsed": 112,
     "status": "ok",
     "timestamp": 1747154112478,
     "user": {
      "displayName": "Monsurat Ayinde",
      "userId": "05966657769053220174"
     },
     "user_tz": -60
    },
    "id": "6b81it6rfZSm",
    "outputId": "a92bfa4f-b576-4b49-ec91-5de069ef4e99"
   },
   "outputs": [],
   "source": [
    "df_nationality_df[\"count_pct\"] = (\n",
    "    (df_nationality_df[\"Count\"]/df_nationality_df[\"Count\"].sum()) * 100\n",
    ")\n",
    "df_nationality_df"
   ]
  },
  {
   "cell_type": "markdown",
   "metadata": {
    "id": "LV-CQ6oum6tf"
   },
   "source": [
    "# Normalize Barchart"
   ]
  },
  {
   "cell_type": "code",
   "execution_count": null,
   "metadata": {
    "colab": {
     "base_uri": "https://localhost:8080/",
     "height": 542
    },
    "executionInfo": {
     "elapsed": 119,
     "status": "ok",
     "timestamp": 1747154112610,
     "user": {
      "displayName": "Monsurat Ayinde",
      "userId": "05966657769053220174"
     },
     "user_tz": -60
    },
    "id": "aLUNBbu_ljQD",
    "outputId": "47e8f586-05f4-47f2-e322-a9ce16fd4818"
   },
   "outputs": [],
   "source": [
    "# create a horizontal barchart\n",
    "fig = px.bar(data_frame= df_nationality_df,\n",
    "             x = \"count_pct\",\n",
    "             y=\"country_name\",\n",
    "             orientation=\"h\",\n",
    "             title = \"Applicants: Nationality\"\n",
    ")\n",
    "# Set axis labels\n",
    "fig.update_layout(xaxis_title=\"Frequency [count]\", yaxis_title=\"Country\",\n",
    "                   yaxis=dict(\n",
    "        categoryorder='total ascending'  # 'ascending' puts the largest value at the top for horizontal bars\n",
    "    )\n",
    ")\n",
    "# Show the plot\n",
    "fig.show()"
   ]
  },
  {
   "cell_type": "code",
   "execution_count": null,
   "metadata": {
    "colab": {
     "base_uri": "https://localhost:8080/",
     "height": 331
    },
    "executionInfo": {
     "elapsed": 110,
     "status": "ok",
     "timestamp": 1747154112726,
     "user": {
      "displayName": "Monsurat Ayinde",
      "userId": "05966657769053220174"
     },
     "user_tz": -60
    },
    "id": "fQuoN_w7nGSU",
    "outputId": "bb71a288-c905-4195-cef0-18bcb63ce201"
   },
   "outputs": [],
   "source": [
    "df_nationality_df[\"CountryISO3\"] = cc.convert(df_nationality_df[\"CountryISO2\"], to=\"ISO3\")\n",
    "df_nationality_df"
   ]
  },
  {
   "cell_type": "markdown",
   "metadata": {
    "id": "4FWysmGopdxM"
   },
   "source": [
    "# Create a function build_nat_choropleth that returns plotly choropleth map showing the \"count\" of DS applicants in each country in the globe."
   ]
  },
  {
   "cell_type": "code",
   "execution_count": null,
   "metadata": {
    "colab": {
     "base_uri": "https://localhost:8080/",
     "height": 542
    },
    "executionInfo": {
     "elapsed": 66,
     "status": "ok",
     "timestamp": 1747154112789,
     "user": {
      "displayName": "Monsurat Ayinde",
      "userId": "05966657769053220174"
     },
     "user_tz": -60
    },
    "id": "ozokVxWgo6Sh",
    "outputId": "ae547c9e-f82b-4d5d-fe3d-5b669ce612e1"
   },
   "outputs": [],
   "source": [
    "def build_nat_choropleth():\n",
    "  fig = px.choropleth(\n",
    "      data_frame=df_nationality_df,\n",
    "      locations=\"CountryISO3\",\n",
    "      locationmode=\"ISO-3\",\n",
    "      color=\"count_pct\",\n",
    "      projection=\"natural earth\",\n",
    "      color_continuous_scale=px.colors.sequential.Oranges,\n",
    "      title=\"Applicants: Nationality\",\n",
    "      hover_name=\"country_name\",\n",
    "      hover_data=[\"Count\", \"count_pct\"],\n",
    "  )\n",
    "  return fig\n",
    "nat_fig = build_nat_choropleth()\n",
    "nat_fig.show()"
   ]
  },
  {
   "cell_type": "markdown",
   "metadata": {
    "id": "8Fja_UMXswIm"
   },
   "source": [
    "#  Age of Applicants"
   ]
  },
  {
   "cell_type": "code",
   "execution_count": null,
   "metadata": {
    "colab": {
     "base_uri": "https://localhost:8080/"
    },
    "executionInfo": {
     "elapsed": 77,
     "status": "ok",
     "timestamp": 1747154112874,
     "user": {
      "displayName": "Monsurat Ayinde",
      "userId": "05966657769053220174"
     },
     "user_tz": -60
    },
    "id": "cPO1GhRzqmFB",
    "outputId": "9fcb61ac-e584-426e-847d-5061eef75f9f"
   },
   "outputs": [],
   "source": [
    "import pandas as pd\n",
    "from datetime import datetime\n",
    "\n",
    "\n",
    "# Convert 'birthday' to datetime\n",
    "df['birthday'] = pd.to_datetime(df['birthday'], dayfirst=True)\n"
   ]
  },
  {
   "cell_type": "code",
   "execution_count": null,
   "metadata": {
    "id": "1l44i-VOv10z"
   },
   "outputs": [],
   "source": [
    "today = pd.to_datetime(\"today\")\n",
    "df['age'] = df['birthday'].apply(\n",
    "    lambda dob: today.year - dob.year - ((today.month, today.day) < (dob.month, dob.day))\n",
    "    )\n"
   ]
  },
  {
   "cell_type": "code",
   "execution_count": null,
   "metadata": {
    "colab": {
     "base_uri": "https://localhost:8080/",
     "height": 241
    },
    "executionInfo": {
     "elapsed": 15,
     "status": "ok",
     "timestamp": 1747154112879,
     "user": {
      "displayName": "Monsurat Ayinde",
      "userId": "05966657769053220174"
     },
     "user_tz": -60
    },
    "id": "nsj3N75HxBlb",
    "outputId": "85da42c2-a1c2-439e-d339-bd4a4cbe29a7"
   },
   "outputs": [],
   "source": [
    "df[\"age\"].head()"
   ]
  },
  {
   "cell_type": "markdown",
   "metadata": {
    "id": "mWqnScNCxYdC"
   },
   "source": [
    "# Applicant Age histogram"
   ]
  },
  {
   "cell_type": "code",
   "execution_count": null,
   "metadata": {
    "colab": {
     "base_uri": "https://localhost:8080/",
     "height": 617
    },
    "executionInfo": {
     "elapsed": 74,
     "status": "ok",
     "timestamp": 1747154112954,
     "user": {
      "displayName": "Monsurat Ayinde",
      "userId": "05966657769053220174"
     },
     "user_tz": -60
    },
    "id": "35UzE7uOxFTU",
    "outputId": "67bc8126-b79e-4765-8a97-c89eb6f0791c"
   },
   "outputs": [],
   "source": [
    "def build_age_hist():\n",
    "  fig = px.histogram(x = df[\"age\"], nbins = 20, title = \"Applicants: Age\")\n",
    "  fig.update_layout(xaxis_title=\"Age\", yaxis_title=\"Frequency [count]\",width=800,\n",
    "        height=600  )\n",
    "  return fig\n",
    "age_fig = build_age_hist()\n",
    "age_fig.show()"
   ]
  },
  {
   "cell_type": "code",
   "execution_count": null,
   "metadata": {
    "colab": {
     "base_uri": "https://localhost:8080/",
     "height": 617
    },
    "executionInfo": {
     "elapsed": 80,
     "status": "ok",
     "timestamp": 1747154113029,
     "user": {
      "displayName": "Monsurat Ayinde",
      "userId": "05966657769053220174"
     },
     "user_tz": -60
    },
    "id": "KBaY9K1GyI9j",
    "outputId": "6f370710-a6c5-45d8-9596-c0de8563dbc3"
   },
   "outputs": [],
   "source": [
    "import plotly.express as px\n",
    "\n",
    "def build_age_hist():\n",
    "    fig = px.histogram(x = df[\"age\"], title = \"Applicants: Age\")\n",
    "\n",
    "    # Define custom bin sizes and range\n",
    "    fig.update_traces(\n",
    "        xbins=dict(\n",
    "            start=0,\n",
    "            end=100,\n",
    "            size=10\n",
    "        )\n",
    "    )\n",
    "\n",
    "    fig.update_layout(\n",
    "        xaxis_title=\"Age\",\n",
    "        yaxis_title=\"Frequency [count]\",\n",
    "        width=800,\n",
    "        height=600\n",
    "    )\n",
    "\n",
    "    return fig\n",
    "\n",
    "age_fig = build_age_hist()\n",
    "age_fig.show()\n"
   ]
  },
  {
   "cell_type": "markdown",
   "metadata": {
    "id": "AFXFsTz20jOQ"
   },
   "source": [
    "# Education"
   ]
  },
  {
   "cell_type": "code",
   "execution_count": null,
   "metadata": {
    "colab": {
     "base_uri": "https://localhost:8080/",
     "height": 209
    },
    "executionInfo": {
     "elapsed": 179,
     "status": "ok",
     "timestamp": 1747154113210,
     "user": {
      "displayName": "Monsurat Ayinde",
      "userId": "05966657769053220174"
     },
     "user_tz": -60
    },
    "id": "FidHD0XqzdZn",
    "outputId": "1e69b4f6-b7bb-4259-9676-28063dba7f08"
   },
   "outputs": [],
   "source": [
    "education = df[\"highest_degree_earned\"].value_counts(ascending = False)\n",
    "education"
   ]
  },
  {
   "cell_type": "markdown",
   "metadata": {
    "id": "oPp4Xo002T3j"
   },
   "source": [
    "# Reading the result into DataFrame"
   ]
  },
  {
   "cell_type": "code",
   "execution_count": null,
   "metadata": {
    "colab": {
     "base_uri": "https://localhost:8080/"
    },
    "executionInfo": {
     "elapsed": 87,
     "status": "ok",
     "timestamp": 1747154113211,
     "user": {
      "displayName": "Monsurat Ayinde",
      "userId": "05966657769053220174"
     },
     "user_tz": -60
    },
    "id": "QeKkFCup16gd",
    "outputId": "db9e4595-e2f5-44ad-d0ab-8439426ba1d6"
   },
   "outputs": [],
   "source": [
    "# Convert the Series to a DataFrame\n",
    "education_df = education.reset_index()\n",
    "\n",
    "# Rename columns for clarity\n",
    "education_df.columns = ['Degree', 'Count']\n",
    "\n",
    "# Display the resulting DataFrame\n",
    "print(education_df)"
   ]
  },
  {
   "cell_type": "code",
   "execution_count": null,
   "metadata": {
    "colab": {
     "base_uri": "https://localhost:8080/"
    },
    "executionInfo": {
     "elapsed": 24,
     "status": "ok",
     "timestamp": 1747154113214,
     "user": {
      "displayName": "Monsurat Ayinde",
      "userId": "05966657769053220174"
     },
     "user_tz": -60
    },
    "id": "GRttEb8T3fB_",
    "outputId": "524390e7-0fe2-43ef-c56d-66a1b3f22831"
   },
   "outputs": [],
   "source": [
    "def ed_sort(counts):\n",
    "    \"\"\"Sort array `counts` from highest to lowest degree earned.\"\"\"\n",
    "    # Create a mapping for the degrees to numeric values\n",
    "    # PhD -> 3 (highest), Masters -> 2, Bachelors -> 1 (lowest)\n",
    "    mapping = {\n",
    "        \"Bachelors\": 1,\n",
    "        \"Masters\": 2,\n",
    "        \"PhD\": 3,\n",
    "    }\n",
    "\n",
    "    # Sort the degrees based on the mapping and return the corresponding sort order\n",
    "    sort_order = counts.index.map(mapping)\n",
    "\n",
    "    return sort_order\n",
    "\n",
    "# Assuming 'education' is a Series with degrees as the index (degree names)\n",
    "education = df[\"highest_degree_earned\"].value_counts(ascending=False)\n",
    "\n",
    "# Create the mapping dictionary again for sorting purposes\n",
    "mapping = {\n",
    "    \"Bachelors\": 1,\n",
    "    \"Masters\": 2,\n",
    "    \"PhD\": 3,\n",
    "}\n",
    "\n",
    "# Sort the education Series based on the custom sort order\n",
    "education_sorted = education.iloc[education.index.map(lambda x: mapping.get(x, 0)).argsort()]\n",
    "\n",
    "# Display the sorted education counts\n",
    "print(education_sorted)\n"
   ]
  },
  {
   "cell_type": "code",
   "execution_count": null,
   "metadata": {
    "colab": {
     "base_uri": "https://localhost:8080/",
     "height": 559
    },
    "executionInfo": {
     "elapsed": 39,
     "status": "ok",
     "timestamp": 1747154113245,
     "user": {
      "displayName": "Monsurat Ayinde",
      "userId": "05966657769053220174"
     },
     "user_tz": -60
    },
    "id": "_8DlcN0b3s9n",
    "outputId": "5d9dba5a-96ce-422c-84e1-bcb71d3349d1"
   },
   "outputs": [],
   "source": [
    "import plotly.express as px\n",
    "\n",
    "def build_ed_bar():\n",
    "    # Create bar chart\n",
    "    fig = px.bar(\n",
    "        education_sorted,  # Data for the bar chart\n",
    "        x=education_sorted.index,  # X-axis (degree names)\n",
    "        y=education_sorted.values,  # Y-axis (counts)\n",
    "        title=\"Applicants : Highest Degree Earned\",  # Title of the chart\n",
    "        labels={\"x\": \"Degree\", \"y\": \"Number of Applicants\"}  # Axis labels\n",
    "    )\n",
    "\n",
    "    # Optionally: Reverse the x-axis if you want to display it in descending order\n",
    "    fig.update_layout(\n",
    "        xaxis_title=\"Degree\",\n",
    "        yaxis_title=\"Frequency [count]\",\n",
    "        xaxis_categoryorder='total descending'  # Sort from highest to lowest degree\n",
    "    )\n",
    "\n",
    "    return fig\n",
    "\n",
    "# Generate the figure and show it\n",
    "ed_fig = build_ed_bar()\n",
    "print(\"ed_fig type:\", type(ed_fig))  # Confirm the type of the figure object\n",
    "ed_fig.show()  # Display the figure\n"
   ]
  },
  {
   "cell_type": "markdown",
   "metadata": {
    "id": "7fycUQePK6Oo"
   },
   "source": [
    "# Aggregate Applicants by quiz completion"
   ]
  },
  {
   "cell_type": "code",
   "execution_count": null,
   "metadata": {
    "colab": {
     "base_uri": "https://localhost:8080/",
     "height": 178
    },
    "executionInfo": {
     "elapsed": 44,
     "status": "ok",
     "timestamp": 1747154113291,
     "user": {
      "displayName": "Monsurat Ayinde",
      "userId": "05966657769053220174"
     },
     "user_tz": -60
    },
    "id": "YYGKNLL64SOS",
    "outputId": "17f54e45-8bf3-4052-a916-7b47635974b0"
   },
   "outputs": [],
   "source": [
    "results = df[\"admission_quiz\"].value_counts(ascending = False)\n",
    "results"
   ]
  },
  {
   "cell_type": "code",
   "execution_count": null,
   "metadata": {
    "colab": {
     "base_uri": "https://localhost:8080/"
    },
    "executionInfo": {
     "elapsed": 38,
     "status": "ok",
     "timestamp": 1747154113295,
     "user": {
      "displayName": "Monsurat Ayinde",
      "userId": "05966657769053220174"
     },
     "user_tz": -60
    },
    "id": "E9EgTuMNNglp",
    "outputId": "d0c2510b-15ef-4a86-c51b-ff92875a0297"
   },
   "outputs": [],
   "source": [
    "# Get the counts safely (default to 0 if not present)\n",
    "incomplete = results.get(\"Not Completed\", 0)\n",
    "completed = results.get(\"Completed\", 0)\n",
    "\n",
    "print(f\"Number of applicants who completed the quiz: {completed}\")\n",
    "print(f\"Number of applicants who did not complete the quiz: {incomplete}\")"
   ]
  },
  {
   "cell_type": "code",
   "execution_count": null,
   "metadata": {
    "colab": {
     "base_uri": "https://localhost:8080/"
    },
    "executionInfo": {
     "elapsed": 23,
     "status": "ok",
     "timestamp": 1747154113313,
     "user": {
      "displayName": "Monsurat Ayinde",
      "userId": "05966657769053220174"
     },
     "user_tz": -60
    },
    "id": "6edS9upUPf3q",
    "outputId": "917f4840-92b1-466f-bc03-bb68da4567a8"
   },
   "outputs": [],
   "source": [
    "total = incomplete + completed\n",
    "prop_incomplete = incomplete / total\n",
    "print(\n",
    "    \"Proportion of users who don't complete admissions quiz:\", round(prop_incomplete, 2)\n",
    ")"
   ]
  },
  {
   "cell_type": "markdown",
   "metadata": {
    "id": "764Tc66xUOp_"
   },
   "source": [
    "# Develop the Hypothesis"
   ]
  },
  {
   "cell_type": "code",
   "execution_count": null,
   "metadata": {
    "colab": {
     "base_uri": "https://localhost:8080/"
    },
    "executionInfo": {
     "elapsed": 29,
     "status": "ok",
     "timestamp": 1747154113352,
     "user": {
      "displayName": "Monsurat Ayinde",
      "userId": "05966657769053220174"
     },
     "user_tz": -60
    },
    "id": "5maX17hiQuAF",
    "outputId": "776873ee-b95b-4f7c-f67b-12f9d5248f8a"
   },
   "outputs": [],
   "source": [
    "null_hypothesis = '''\n",
    "There is no relationship between sending an email and completing the admissions quiz.\n",
    "sending an email to 'to no quiz applicants' does  not affect the completion of the quiz.\n",
    "'''\n",
    "\n",
    "alternate_hypothesis = \"\"\"\n",
    "There is a relationship between sending an email and completing the admissions quiz.\n",
    "sending an email to 'to quiz applicants' does affect the completion of the quiz.\n",
    "\"\"\"\n",
    "\n",
    "print(\"Null Hypothesis:\", null_hypothesis)\n",
    "print(\"Alternate Hypothesis:\", alternate_hypothesis)"
   ]
  },
  {
   "cell_type": "markdown",
   "metadata": {
    "id": "24ZsjTvsX-lr"
   },
   "source": [
    "# filter the data so that we're only looking at students who applied on a certain date."
   ]
  },
  {
   "cell_type": "code",
   "execution_count": null,
   "metadata": {
    "id": "5D6Yl-ArhZ0g"
   },
   "outputs": [],
   "source": [
    "import pandas as pd\n",
    "\n",
    "def find_by_date(df, date_string=None, start_date=None, end_date=None, mode='day'):\n",
    "     # Normalize the quiz status\n",
    "    df[\"admission_quiz\"] = df[\"admission_quiz\"].str.lower().str.strip()\n",
    "    df[\"created_at\"] = pd.to_datetime(df[\"created_at\"])\n",
    "\n",
    "    if mode == 'day':\n",
    "        start = pd.to_datetime(date_string)\n",
    "        end = start + pd.Timedelta(days=1)\n",
    "\n",
    "    elif mode == 'month':\n",
    "        date = pd.to_datetime(date_string)\n",
    "        start = pd.Timestamp(date.year, date.month, 1)\n",
    "        end = start + pd.offsets.MonthEnd(1)\n",
    "\n",
    "    elif mode == 'range':\n",
    "        start = pd.to_datetime(start_date)\n",
    "        end = pd.to_datetime(end_date) + pd.Timedelta(days=1)\n",
    "\n",
    "    else:\n",
    "        raise ValueError(\"Invalid mode. Use 'day', 'month', or 'range'.\")\n",
    "\n",
    "    # Filter\n",
    "    filtered = df[\n",
    "        (df[\"created_at\"] >= start) &\n",
    "        (df[\"created_at\"] < end) &\n",
    "        (df[\"admission_quiz\"] == \"not completed\")\n",
    "    ]\n",
    "\n",
    "    return filtered\n"
   ]
  },
  {
   "cell_type": "code",
   "execution_count": null,
   "metadata": {
    "colab": {
     "base_uri": "https://localhost:8080/",
     "height": 731
    },
    "executionInfo": {
     "elapsed": 50,
     "status": "ok",
     "timestamp": 1747154113437,
     "user": {
      "displayName": "Monsurat Ayinde",
      "userId": "05966657769053220174"
     },
     "user_tz": -60
    },
    "id": "aEtME51yhnoO",
    "outputId": "726d5650-b2e8-4710-e684-d89acb9e606a"
   },
   "outputs": [],
   "source": [
    "# For a specific day\n",
    "find_by_date(df, date_string=\"2023-08-15\", mode='day')\n",
    "\n",
    "# For a month\n",
    "find_by_date(df, date_string=\"2023-08\", mode='month')\n",
    "\n",
    "# For a range\n",
    "find_by_date(df, start_date=\"2023-08-01\", end_date=\"2023-08-20\", mode='range')\n"
   ]
  },
  {
   "cell_type": "code",
   "execution_count": null,
   "metadata": {
    "colab": {
     "base_uri": "https://localhost:8080/"
    },
    "executionInfo": {
     "elapsed": 34,
     "status": "ok",
     "timestamp": 1747154113439,
     "user": {
      "displayName": "Monsurat Ayinde",
      "userId": "05966657769053220174"
     },
     "user_tz": -60
    },
    "id": "6_k3eRmLh4EI",
    "outputId": "939bbb56-da2f-48f6-9016-6a1af68a934f"
   },
   "outputs": [],
   "source": [
    "result = find_by_date(df, date_string=\"2023-08-10\", mode='day')\n",
    "print(result)\n"
   ]
  },
  {
   "cell_type": "code",
   "execution_count": null,
   "metadata": {
    "colab": {
     "base_uri": "https://localhost:8080/",
     "height": 1000
    },
    "executionInfo": {
     "elapsed": 42,
     "status": "ok",
     "timestamp": 1747154113483,
     "user": {
      "displayName": "Monsurat Ayinde",
      "userId": "05966657769053220174"
     },
     "user_tz": -60
    },
    "id": "Kc7NfrXBjvtz",
    "outputId": "0312e89c-efe7-4b04-8e42-276ac156349c"
   },
   "outputs": [],
   "source": [
    "find_by_date(df, date_string=\"2023-08\", mode='month')"
   ]
  },
  {
   "cell_type": "markdown",
   "metadata": {
    "id": "5uo4r24riqVu"
   },
   "source": [
    "# For getting a list"
   ]
  },
  {
   "cell_type": "code",
   "execution_count": null,
   "metadata": {
    "colab": {
     "base_uri": "https://localhost:8080/"
    },
    "executionInfo": {
     "elapsed": 15,
     "status": "ok",
     "timestamp": 1747154113529,
     "user": {
      "displayName": "Monsurat Ayinde",
      "userId": "05966657769053220174"
     },
     "user_tz": -60
    },
    "id": "Vp14w8YxZzH_",
    "outputId": "6fba8f9b-a8f6-4150-bbb6-2d291f83dd74"
   },
   "outputs": [],
   "source": [
    "observations_ = find_by_date(df, date_string=\"2023-11-29\", mode='day')\n",
    "\n",
    "print(\"observations type:\", type(observations_))\n",
    "print(\"observations len:\", len(observations_))\n",
    "\n",
    "# Check if observations is empty before accessing the first element\n",
    "if len(observations_) > 0:\n",
    "    print(observations_.iloc[0])  # Access the first row safely\n",
    "else:\n",
    "    print(\"No observations found.\")\n"
   ]
  },
  {
   "cell_type": "markdown",
   "metadata": {
    "id": "w91yKv_ilgvN"
   },
   "source": [
    "#Transform:  Designing the Experiment"
   ]
  },
  {
   "cell_type": "markdown",
   "metadata": {
    "id": "mpsEaPXG2qMC"
   },
   "source": [
    "we're going to be figuring out which students didn't take the quiz, and assigning them to different experimental groups"
   ]
  },
  {
   "cell_type": "code",
   "execution_count": null,
   "metadata": {
    "id": "6xfapksXlKeu"
   },
   "outputs": [],
   "source": [
    "\n",
    "def get_incomplete_quiz_applicants(df):\n",
    "    \"\"\"\n",
    "    Returns a list of applicants who did not complete the quiz.\n",
    "\n",
    "    Parameters\n",
    "    ----------\n",
    "    df : pandas.DataFrame\n",
    "        The input DataFrame with at least 'admission_quiz' column.\n",
    "\n",
    "    Returns\n",
    "    -------\n",
    "    List[dict]\n",
    "        List of dictionaries containing the rows of applicants with 'Not Completed' quiz status.\n",
    "    \"\"\"\n",
    "    # Normalize quiz column to avoid casing/spacing issues\n",
    "    #df[\"admission_quiz\"] = df[\"admission_quiz\"].str.strip().str.lower()\n",
    "\n",
    "    # Filter for 'not completed'\n",
    "    not_completed_df = df[df[\"admission_quiz\"] == \"not completed\"]\n",
    "\n",
    "    # Convert to list of dicts\n",
    "    not_completed_list = not_completed_df.to_dict(orient=\"records\")\n",
    "\n",
    "    return not_completed_list\n"
   ]
  },
  {
   "cell_type": "code",
   "execution_count": null,
   "metadata": {
    "colab": {
     "base_uri": "https://localhost:8080/"
    },
    "executionInfo": {
     "elapsed": 22,
     "status": "ok",
     "timestamp": 1747154113557,
     "user": {
      "displayName": "Monsurat Ayinde",
      "userId": "05966657769053220174"
     },
     "user_tz": -60
    },
    "id": "rhAqBUCE_1ny",
    "outputId": "b1c1b7d6-25c3-4600-c730-0d900072d377"
   },
   "outputs": [],
   "source": [
    "observations = get_incomplete_quiz_applicants(df)\n",
    "\n",
    "print(f\"Found {len(observations)} applicants who did not complete the quiz.\")\n",
    "print(observations[:3])  # preview first 3\n"
   ]
  },
  {
   "cell_type": "code",
   "execution_count": null,
   "metadata": {
    "id": "fDHEI1HM_2Uk"
   },
   "outputs": [],
   "source": [
    "import random"
   ]
  },
  {
   "cell_type": "code",
   "execution_count": null,
   "metadata": {
    "id": "-5nMVcrlDoVp"
   },
   "outputs": [],
   "source": [
    "random.seed(42)\n",
    "random.shuffle(observations)"
   ]
  },
  {
   "cell_type": "code",
   "execution_count": null,
   "metadata": {
    "id": "ZGGpcDR8EBRd"
   },
   "outputs": [],
   "source": [
    "idx = len(observations)//2"
   ]
  },
  {
   "cell_type": "code",
   "execution_count": null,
   "metadata": {
    "colab": {
     "base_uri": "https://localhost:8080/"
    },
    "executionInfo": {
     "elapsed": 226,
     "status": "ok",
     "timestamp": 1747154113789,
     "user": {
      "displayName": "Monsurat Ayinde",
      "userId": "05966657769053220174"
     },
     "user_tz": -60
    },
    "id": "dN6kNwIqExzB",
    "outputId": "0dd630fe-d381-4ed5-adb1-1f9ecb813650"
   },
   "outputs": [],
   "source": [
    "len(observations[idx:])"
   ]
  },
  {
   "cell_type": "code",
   "execution_count": null,
   "metadata": {
    "colab": {
     "base_uri": "https://localhost:8080/"
    },
    "executionInfo": {
     "elapsed": 203,
     "status": "ok",
     "timestamp": 1747154113790,
     "user": {
      "displayName": "Monsurat Ayinde",
      "userId": "05966657769053220174"
     },
     "user_tz": -60
    },
    "id": "jnU2cE59FTQe",
    "outputId": "090d3530-5693-4aee-947b-9f5d125bddab"
   },
   "outputs": [],
   "source": [
    "def assign_to_groups(observations):\n",
    "    \"\"\"Randomly assigns observations to control and treatment groups.\n",
    "\n",
    "    Parameters\n",
    "    ----------\n",
    "    observations : list or pymongo.cursor.Cursor\n",
    "        List of users to assign to groups.\n",
    "\n",
    "    Returns\n",
    "    -------\n",
    "    observations : list\n",
    "        List of documents from `observations` with two additional keys:\n",
    "        `inExperiment` and `group`.\n",
    "    \"\"\"\n",
    "    # Shuffle `observations`\n",
    "    random.seed(42)\n",
    "    random.shuffle(observations)\n",
    "\n",
    "    # Get index position of item at observations halfway point\n",
    "    idx = len(observations)//2\n",
    "\n",
    "    # Assign first half of observations to control group\n",
    "    for doc in observations[:idx]:\n",
    "        doc[\"inExperiment\"] = True\n",
    "        doc[\"group\"] = \"no email (control)\"\n",
    "\n",
    "    # Assign second half of observations to treatment group\n",
    "    for doc in observations[idx:]:\n",
    "        doc[\"inExperiment\"] = True\n",
    "        doc[\"group\"] = \"email (treatment)\"\n",
    "\n",
    "    return observations\n",
    "\n",
    "\n",
    "observations_assigned = assign_to_groups(observations)\n",
    "\n",
    "print(\"observations_assigned type:\", type(observations_assigned))\n",
    "print(\"observations_assigned len:\", len(observations_assigned))\n",
    "observations_assigned[0]"
   ]
  },
  {
   "cell_type": "code",
   "execution_count": null,
   "metadata": {
    "colab": {
     "base_uri": "https://localhost:8080/"
    },
    "executionInfo": {
     "elapsed": 201,
     "status": "ok",
     "timestamp": 1747154113807,
     "user": {
      "displayName": "Monsurat Ayinde",
      "userId": "05966657769053220174"
     },
     "user_tz": -60
    },
    "id": "p24AkYaSIHLg",
    "outputId": "1c3522a3-515c-4a4b-d038-ed96df31c25a"
   },
   "outputs": [],
   "source": [
    "observations_assigned[-1]"
   ]
  },
  {
   "cell_type": "markdown",
   "metadata": {
    "id": "brYsVNPDlUw7"
   },
   "source": [
    "# creating a class"
   ]
  },
  {
   "cell_type": "code",
   "execution_count": null,
   "metadata": {
    "id": "0kBGrMN-IPlY"
   },
   "outputs": [],
   "source": [
    "import pandas as pd\n",
    "\n",
    "class CSVRepository:\n",
    "    \"\"\"Repository class for interacting with applicant data from a CSV file.\n",
    "\n",
    "    Parameters\n",
    "    ----------\n",
    "    filepath : str\n",
    "        Path to the CSV file containing applicant data.\n",
    "\n",
    "    Attributes\n",
    "    ----------\n",
    "    df : pandas.DataFrame\n",
    "        All data will be extracted from and loaded to this DataFrame.\n",
    "    \"\"\"\n",
    "\n",
    "    def __init__(self, filepath=\"mydata/admissions_dataset.csv\"):\n",
    "        self.df = pd.read_csv(filepath)\n",
    "        self.df[\"created_at\"] = pd.to_datetime(self.df[\"created_at\"])\n",
    "        self.df[\"admission_quiz\"] = self.df[\"admission_quiz\"].str.strip().str.lower()\n",
    "\n",
    "    # Normalize column values\n",
    "    def find_by_date(self, date_string=None, start_date=None, end_date=None, mode='day'):\n",
    "        df = self.df\n",
    "\n",
    "        if mode == 'day':\n",
    "            start = pd.to_datetime(date_string)\n",
    "            end = start + pd.Timedelta(days=1)\n",
    "\n",
    "        elif mode == 'month':\n",
    "            date = pd.to_datetime(date_string)\n",
    "            start = pd.Timestamp(date.year, date.month, 1)\n",
    "            end = start + pd.offsets.MonthEnd(1)\n",
    "\n",
    "        elif mode == 'range':\n",
    "            start = pd.to_datetime(start_date)\n",
    "            end = pd.to_datetime(end_date) + pd.Timedelta(days=1)\n",
    "        else:\n",
    "            raise ValueError(\"Invalid mode. Use 'day', 'month', or 'range'.\")\n",
    "\n",
    "        # Filter\n",
    "        filtered = df[\n",
    "            (df[\"created_at\"] >= start) &\n",
    "            (df[\"created_at\"] < end) &\n",
    "            (df[\"admission_quiz\"] == \"not completed\")\n",
    "        ]\n",
    "\n",
    "        return filtered\n",
    "    # # Task 7.2.18\n",
    "    # def find_not_completed(self, start=None, end=None):\n",
    "    #     \"\"\"Returns applicants who did not complete the quiz.\n",
    "\n",
    "    #     Parameters\n",
    "    #     ----------\n",
    "    #     start : str, optional\n",
    "    #         Start date in 'YYYY-MM-DD' format.\n",
    "    #     end : str, optional\n",
    "    #         End date in 'YYYY-MM-DD' format.\n",
    "\n",
    "    #     Returns\n",
    "    #     -------\n",
    "    #     list\n",
    "    #         List of applicant records as dictionaries.\n",
    "    #     \"\"\"\n",
    "    #     df = self.df\n",
    "\n",
    "    #     if start and end:\n",
    "    #         start_date = pd.to_datetime(start)\n",
    "    #         end_date = pd.to_datetime(end)\n",
    "    #         df = df[(df[\"created_at\"] >= start_date) & (df[\"created_at\"] <= end_date)]\n",
    "\n",
    "    #     not_completed_df = df[df[\"admission_quiz\"] == \"not completed\"]\n",
    "    #     return not_completed_df.to_dict(orient=\"records\")\n",
    "\n",
    "    # # Task 7.2.19\n",
    "    # def count_not_completed(self):\n",
    "    #     \"\"\"Counts how many applicants did not complete the quiz.\n",
    "\n",
    "    #     Returns\n",
    "    #     -------\n",
    "    #     int\n",
    "    #         Count of records where quiz is not completed.\n",
    "    #     \"\"\"\n",
    "    #     return len(self.df[self.df[\"admission_quiz\"] == \"not completed\"])\n"
   ]
  },
  {
   "cell_type": "markdown",
   "metadata": {
    "id": "7qnH4ie5ly85"
   },
   "source": [
    "# Instantiate the Repository"
   ]
  },
  {
   "cell_type": "code",
   "execution_count": null,
   "metadata": {
    "colab": {
     "base_uri": "https://localhost:8080/"
    },
    "executionInfo": {
     "elapsed": 65,
     "status": "ok",
     "timestamp": 1747154113889,
     "user": {
      "displayName": "Monsurat Ayinde",
      "userId": "05966657769053220174"
     },
     "user_tz": -60
    },
    "id": "PCEbSQd6l2EG",
    "outputId": "ec075d49-5950-483e-d570-2ad15ba430a9"
   },
   "outputs": [],
   "source": [
    "repo = CSVRepository()\n",
    "print(\"repo type:\", type(repo))\n",
    "repo"
   ]
  },
  {
   "cell_type": "code",
   "execution_count": null,
   "metadata": {
    "colab": {
     "base_uri": "https://localhost:8080/"
    },
    "executionInfo": {
     "elapsed": 41,
     "status": "ok",
     "timestamp": 1747154113890,
     "user": {
      "displayName": "Monsurat Ayinde",
      "userId": "05966657769053220174"
     },
     "user_tz": -60
    },
    "id": "nc_ybFxqpRNW",
    "outputId": "183da2d0-a9e6-49c5-c07d-6d18e0c2cab3"
   },
   "outputs": [],
   "source": [
    "dir(repo)"
   ]
  },
  {
   "cell_type": "code",
   "execution_count": null,
   "metadata": {
    "colab": {
     "base_uri": "https://localhost:8080/"
    },
    "executionInfo": {
     "elapsed": 25,
     "status": "ok",
     "timestamp": 1747154113892,
     "user": {
      "displayName": "Monsurat Ayinde",
      "userId": "05966657769053220174"
     },
     "user_tz": -60
    },
    "id": "Zo-irw1epuG1",
    "outputId": "ac732ee2-905d-4e06-8cf8-ec8b45abdb6f"
   },
   "outputs": [],
   "source": [
    "c_test = repo.df\n",
    "print(\"c_test type:\", type(c_test))\n",
    "#c_test"
   ]
  },
  {
   "cell_type": "markdown",
   "metadata": {
    "id": "TnLccSc6w7ro"
   },
   "source": [
    "# find_by_date method\n",
    "\n",
    "Our class is built, and now we need to take the ETL functions we created and turn them into class methods"
   ]
  },
  {
   "cell_type": "code",
   "execution_count": null,
   "metadata": {
    "colab": {
     "base_uri": "https://localhost:8080/"
    },
    "executionInfo": {
     "elapsed": 32,
     "status": "ok",
     "timestamp": 1747154113916,
     "user": {
      "displayName": "Monsurat Ayinde",
      "userId": "05966657769053220174"
     },
     "user_tz": -60
    },
    "id": "Nz2kFkVIySi1",
    "outputId": "0649d869-8fcc-46d1-d8de-0976fd926cb1"
   },
   "outputs": [],
   "source": [
    "repo = CSVRepository()\n",
    "\n",
    "# Get applicants on a specific day\n",
    "day_result = repo.find_by_date(date_string=\"2023-11-29\", mode=\"day\")\n",
    "print(\"Results for 2023-11-29:\", len(day_result))\n",
    "\n",
    "# Get for a month\n",
    "month_result = repo.find_by_date(date_string=\"2023-11\", mode=\"month\")\n",
    "print(\"Results for November:\", len(month_result))\n",
    "\n",
    "# Get for a range\n",
    "range_result = repo.find_by_date(start_date=\"2023-11-01\", end_date=\"2023-11-30\", mode=\"range\")\n",
    "print(\"Results for Nov range:\", len(range_result))\n"
   ]
  },
  {
   "cell_type": "code",
   "execution_count": null,
   "metadata": {
    "colab": {
     "base_uri": "https://localhost:8080/",
     "height": 115
    },
    "executionInfo": {
     "elapsed": 67,
     "status": "ok",
     "timestamp": 1747154113979,
     "user": {
      "displayName": "Monsurat Ayinde",
      "userId": "05966657769053220174"
     },
     "user_tz": -60
    },
    "id": "EdpmRj-397On",
    "outputId": "f208b470-17f8-4fea-a560-ea993f07a6f9"
   },
   "outputs": [],
   "source": [
    "nov_11_users = repo.find_by_date(date_string=\"2023-11-29\", mode=\"day\")\n",
    "print(\"nov_11_users type\", type(nov_11_users))\n",
    "print(\"nov_11_users len\", len(nov_11_users))\n",
    "nov_11_users[:3]"
   ]
  },
  {
   "cell_type": "markdown",
   "metadata": {
    "id": "SIm3yBTzIvax"
   },
   "source": [
    "# Statistical Power"
   ]
  },
  {
   "cell_type": "code",
   "execution_count": null,
   "metadata": {
    "id": "3Ieuv2NgBCcm"
   },
   "outputs": [],
   "source": [
    "import math\n",
    "\n",
    "import matplotlib.pyplot as plt\n",
    "import numpy as np\n",
    "import pandas as pd\n",
    "import plotly.express as px\n",
    "import scipy\n",
    "from statsmodels.stats.contingency_tables import Table2x2\n",
    "from statsmodels.stats.power import GofChisquarePower\n",
    "#from teaching_tools.ab_test.experiment import Experiment"
   ]
  },
  {
   "cell_type": "markdown",
   "metadata": {
    "id": "ZCUr9B5NSxEp"
   },
   "source": [
    "# Power Calculation\n",
    "Instantiate a GofChisquarePower object and assign it to the variable name chi_square_power. Then use it to calculate the group_size needed to detect an effect size of 0.2, with an alpha of 0.05 and power of 0.8"
   ]
  },
  {
   "cell_type": "code",
   "execution_count": null,
   "metadata": {
    "colab": {
     "base_uri": "https://localhost:8080/"
    },
    "executionInfo": {
     "elapsed": 37,
     "status": "ok",
     "timestamp": 1747154114705,
     "user": {
      "displayName": "Monsurat Ayinde",
      "userId": "05966657769053220174"
     },
     "user_tz": -60
    },
    "id": "uxvrXJ6tJG5u",
    "outputId": "d79ecde4-070e-4b73-9424-950c0a705cdc"
   },
   "outputs": [],
   "source": [
    "chi_square_power = GofChisquarePower()\n",
    "group_size = int(\n",
    "    chi_square_power.solve_power(effect_size=0.2, alpha=0.05, power=0.8))\n",
    "\n",
    "print(\"Group size:\", group_size)\n",
    "print(\"Total # of applicants needed:\", group_size * 2)"
   ]
  },
  {
   "cell_type": "markdown",
   "metadata": {
    "id": "riWBvZbgV7GB"
   },
   "source": [
    "#  Power Curve Plot"
   ]
  },
  {
   "cell_type": "code",
   "execution_count": null,
   "metadata": {
    "colab": {
     "base_uri": "https://localhost:8080/",
     "height": 927
    },
    "executionInfo": {
     "elapsed": 644,
     "status": "ok",
     "timestamp": 1747154115339,
     "user": {
      "displayName": "Monsurat Ayinde",
      "userId": "05966657769053220174"
     },
     "user_tz": -60
    },
    "id": "Y4u-HtYsUG6H",
    "outputId": "80cb3e16-c6a0-4f7e-b942-a91fd96208e0"
   },
   "outputs": [],
   "source": [
    "n_observations = np.arange(0, group_size * 2 + 1)\n",
    "effect_sizes = np.array([0.2, 0.5, 0.8])\n",
    "\n",
    "#plot power curve uisng chi_square_power\n",
    "\n",
    "chi_square_power.plot_power(\n",
    "    dep_var=\"nobs\",\n",
    "    nobs=n_observations,\n",
    "    effect_size=effect_sizes,\n",
    "    alpha=0.05,\n",
    "    n_bins = 2\n",
    ")"
   ]
  },
  {
   "cell_type": "markdown",
   "metadata": {
    "id": "6W1G23gDZ4Oz"
   },
   "source": [
    "# Aggregate Applicant per day\n",
    "we decided that our experiment would focus on the subset of applicants who don't take the admissions quiz immediately after creating an account. We know we need around 400 observations from this subset, but how long do we need to run our experiment for in order to get that number?\n",
    "\n",
    "To answer that question, we first need to calculate how many such applicants open an account each day"
   ]
  },
  {
   "cell_type": "code",
   "execution_count": null,
   "metadata": {
    "colab": {
     "base_uri": "https://localhost:8080/"
    },
    "executionInfo": {
     "elapsed": 16,
     "status": "ok",
     "timestamp": 1747154115358,
     "user": {
      "displayName": "Monsurat Ayinde",
      "userId": "05966657769053220174"
     },
     "user_tz": -60
    },
    "id": "AGklVZnEeBlk",
    "outputId": "791bfa34-a843-452a-fcf9-da6cf2bb4004"
   },
   "outputs": [],
   "source": [
    "\n",
    "# Convert list of dicts to DataFrame\n",
    "observations_df = pd.DataFrame(observations)\n",
    "\n",
    "# Make sure created_at is datetime\n",
    "observations_df[\"created_at\"] = pd.to_datetime(observations_df[\"created_at\"])\n",
    "\n",
    "# Group by day and count number of records\n",
    "daily_counts = (\n",
    "    observations_df\n",
    "    .groupby(observations_df[\"created_at\"].dt.date)\n",
    "    .size()\n",
    "    .reset_index(name=\"count\")\n",
    ")\n",
    "\n",
    "# Display the result\n",
    "print(\"result type:\", type(daily_counts))\n",
    "print(daily_counts.head())\n"
   ]
  },
  {
   "cell_type": "code",
   "execution_count": null,
   "metadata": {
    "colab": {
     "base_uri": "https://localhost:8080/",
     "height": 307
    },
    "executionInfo": {
     "elapsed": 24,
     "status": "ok",
     "timestamp": 1747154115385,
     "user": {
      "displayName": "Monsurat Ayinde",
      "userId": "05966657769053220174"
     },
     "user_tz": -60
    },
    "id": "bWCFppJ0f4al",
    "outputId": "51b3f993-e69a-419a-ff9a-37481b3456e6"
   },
   "outputs": [],
   "source": [
    "no_quiz = (daily_counts.rename({\n",
    "    \"created_at\":\"date\", \"count\":\"users\"}, axis = 1)\n",
    "    .set_index(\"date\")\n",
    "    .sort_index()\n",
    "    .squeeze()\n",
    ")\n",
    "\n",
    "print(\"no_quiz type:\", type(no_quiz))\n",
    "print(\"no_quiz shape:\", no_quiz.shape)\n",
    "no_quiz.head()"
   ]
  },
  {
   "cell_type": "markdown",
   "metadata": {
    "id": "HresmAQTh9TF"
   },
   "source": [
    "# Distribution of Applicants per day"
   ]
  },
  {
   "cell_type": "code",
   "execution_count": null,
   "metadata": {
    "colab": {
     "base_uri": "https://localhost:8080/",
     "height": 489
    },
    "executionInfo": {
     "elapsed": 619,
     "status": "ok",
     "timestamp": 1747154116013,
     "user": {
      "displayName": "Monsurat Ayinde",
      "userId": "05966657769053220174"
     },
     "user_tz": -60
    },
    "id": "Sfq3BviAXL6b",
    "outputId": "ddfcaa03-4396-4f03-90ce-231ff265f525"
   },
   "outputs": [],
   "source": [
    "no_quiz.hist()\n",
    "plt.xlabel(\"No-quiz Applicants\")\n",
    "plt.ylabel(\"Frequency [count]\")\n",
    "plt.title(\"Distribution of Daily No-quiz Applicants\")"
   ]
  },
  {
   "cell_type": "markdown",
   "metadata": {
    "id": "sz-3xDTZlEe-"
   },
   "source": [
    "# Average number of applicants per day who did not complete the quiz.\n",
    "\n",
    "Mean (1.39):\n",
    "On average, about 1.39 users per day did not complete the quiz.\n",
    "\n",
    "Standard Deviation (std) (0.62):\n",
    "On any given day, the number of incomplete applicants typically varies by about 0.62 users from the average. This indicates relatively low day-to-day fluctuation."
   ]
  },
  {
   "cell_type": "code",
   "execution_count": null,
   "metadata": {
    "colab": {
     "base_uri": "https://localhost:8080/"
    },
    "executionInfo": {
     "elapsed": 13,
     "status": "ok",
     "timestamp": 1747154116033,
     "user": {
      "displayName": "Monsurat Ayinde",
      "userId": "05966657769053220174"
     },
     "user_tz": -60
    },
    "id": "YPkcpoQ-cC2p",
    "outputId": "882120e7-e15b-4bc3-f9e9-60723304b0e1"
   },
   "outputs": [],
   "source": [
    "no_quiz.mean()"
   ]
  },
  {
   "cell_type": "code",
   "execution_count": null,
   "metadata": {
    "colab": {
     "base_uri": "https://localhost:8080/"
    },
    "executionInfo": {
     "elapsed": 10,
     "status": "ok",
     "timestamp": 1747154116047,
     "user": {
      "displayName": "Monsurat Ayinde",
      "userId": "05966657769053220174"
     },
     "user_tz": -60
    },
    "id": "aI5lFngqkjlZ",
    "outputId": "21574de8-9364-4f57-eeff-534aae466ae0"
   },
   "outputs": [],
   "source": [
    "mean = no_quiz.describe()[\"mean\"]\n",
    "std = no_quiz.describe()[\"std\"]\n",
    "print(\"no_quiz mean:\", mean)\n",
    "print(\"no_quiz std:\", std)"
   ]
  },
  {
   "cell_type": "markdown",
   "metadata": {
    "id": "-1TNsjRUzbAc"
   },
   "source": [
    "# how many days do we need to run the experiment to make sure we get to 400 users?\n",
    "\n",
    "Probability Distribution"
   ]
  },
  {
   "cell_type": "code",
   "execution_count": null,
   "metadata": {
    "colab": {
     "base_uri": "https://localhost:8080/"
    },
    "executionInfo": {
     "elapsed": 18,
     "status": "ok",
     "timestamp": 1747154116068,
     "user": {
      "displayName": "Monsurat Ayinde",
      "userId": "05966657769053220174"
     },
     "user_tz": -60
    },
    "id": "UzEppQIjypoq",
    "outputId": "b188a68d-c2fc-4a9f-fedc-38c2ff247f13"
   },
   "outputs": [],
   "source": [
    "import numpy as np\n",
    "\n",
    "# Given\n",
    "mean_daily = 1.38544474393531\n",
    "std_daily = 0.6235933394605798\n",
    "target_total = 400\n",
    "\n",
    "# Estimate number of days needed\n",
    "estimated_days = int(np.ceil(target_total / mean_daily))\n",
    "\n",
    "# Compute mean and std of the sum for a given number of days\n",
    "days = estimated_days\n",
    "sum_mean = days * mean_daily\n",
    "sum_std = np.sqrt(days) * std_daily\n",
    "\n",
    "print(\"Estimated days needed:\", days)\n",
    "print(\"Mean of sum:\", sum_mean)\n",
    "print(\"Std of sum:\", sum_std)\n"
   ]
  },
  {
   "cell_type": "markdown",
   "metadata": {
    "id": "A812zgaR2PNc"
   },
   "source": [
    "# Cumulative Density Function\n",
    "Calculate the probability of getting 400 or more sign-ups over 289 days"
   ]
  },
  {
   "cell_type": "code",
   "execution_count": null,
   "metadata": {
    "colab": {
     "base_uri": "https://localhost:8080/"
    },
    "executionInfo": {
     "elapsed": 19,
     "status": "ok",
     "timestamp": 1747154116090,
     "user": {
      "displayName": "Monsurat Ayinde",
      "userId": "05966657769053220174"
     },
     "user_tz": -60
    },
    "id": "4GzGoSLE2Hak",
    "outputId": "d3cf0b29-0d36-46a6-8eae-e724f52ae144"
   },
   "outputs": [],
   "source": [
    "prob_400_or_fewer = scipy.stats.norm.cdf(\n",
    "    group_size * 2,\n",
    "    loc = sum_mean,\n",
    "    scale = sum_std\n",
    ")\n",
    "prob_400_or_greater = 1 - prob_400_or_fewer\n",
    "\n",
    "print(\n",
    "    f\"Probability of getting 400+ no_quiz in {days} days:\",\n",
    "    round(prob_400_or_greater, 3),\n",
    ")\n"
   ]
  },
  {
   "cell_type": "markdown",
   "metadata": {
    "id": "h8k1_JHl5YM-"
   },
   "source": [
    "# Running the Experiment"
   ]
  },
  {
   "cell_type": "code",
   "execution_count": null,
   "metadata": {
    "id": "cuPmGMyv68F2"
   },
   "outputs": [],
   "source": [
    "# from teaching_tools.ab_test.experiment import Experiment"
   ]
  },
  {
   "cell_type": "code",
   "execution_count": null,
   "metadata": {
    "colab": {
     "base_uri": "https://localhost:8080/",
     "height": 241
    },
    "executionInfo": {
     "elapsed": 96,
     "status": "ok",
     "timestamp": 1747154116200,
     "user": {
      "displayName": "Monsurat Ayinde",
      "userId": "05966657769053220174"
     },
     "user_tz": -60
    },
    "id": "2yBR5T592xHe",
    "outputId": "ea381fcc-4d8e-4c69-aea7-601aa3ca32aa"
   },
   "outputs": [],
   "source": [
    "# Convert list of dicts to DataFrame\n",
    "observations_df = pd.DataFrame(observations)\n",
    "\n",
    "# Make sure created_at is datetime\n",
    "observations_df[\"created_at\"] = pd.to_datetime(observations_df[\"created_at\"])\n",
    "\n",
    "def run_experiment(observations, days=100, seed=42):\n",
    "    np.random.seed(seed)\n",
    "\n",
    "    # Group by day\n",
    "    daily_counts = (\n",
    "        observations.groupby(observations[\"created_at\"].dt.date)\n",
    "        .size()\n",
    "        .reset_index(name=\"users\")\n",
    "        .rename(columns={\"created_at\": \"date\"})\n",
    "        .sort_values(\"date\")\n",
    "    )\n",
    "\n",
    "    # Ensure we have enough days\n",
    "    if days > len(daily_counts):\n",
    "        raise ValueError(f\"Not enough days in the dataset. You asked for {days}, but only have {len(daily_counts)}.\")\n",
    "\n",
    "    # Sample days randomly\n",
    "    sampled_days = daily_counts.sample(n=days, replace=False, random_state=seed)\n",
    "\n",
    "    total_users = sampled_days[\"users\"].sum()\n",
    "\n",
    "    return {\n",
    "        \"days_sampled\": days,\n",
    "        \"total_users\": total_users,\n",
    "        \"daily_sample\": sampled_days\n",
    "    }\n",
    "\n",
    "# Now run\n",
    "result = run_experiment(observations_df, days=371)\n",
    "print(\"result type:\", type(result))\n",
    "print(f\"Total users in {result['days_sampled']} days:\", result['total_users'])\n",
    "result[\"daily_sample\"].head()\n"
   ]
  },
  {
   "cell_type": "markdown",
   "metadata": {
    "id": "rDo40Hv98FKl"
   },
   "source": [
    "# Evaluating Experiment Results\n",
    "Build Contingency Table"
   ]
  },
  {
   "cell_type": "code",
   "execution_count": null,
   "metadata": {
    "colab": {
     "base_uri": "https://localhost:8080/",
     "height": 313
    },
    "executionInfo": {
     "elapsed": 98,
     "status": "ok",
     "timestamp": 1747154116301,
     "user": {
      "displayName": "Monsurat Ayinde",
      "userId": "05966657769053220174"
     },
     "user_tz": -60
    },
    "id": "inAeR9uo_W2K",
    "outputId": "6aa85e99-fe35-4093-d151-88176580f04e"
   },
   "outputs": [],
   "source": [
    "observations_df.tail()"
   ]
  },
  {
   "cell_type": "code",
   "execution_count": null,
   "metadata": {
    "colab": {
     "base_uri": "https://localhost:8080/",
     "height": 423
    },
    "executionInfo": {
     "elapsed": 204,
     "status": "ok",
     "timestamp": 1747154116503,
     "user": {
      "displayName": "Monsurat Ayinde",
      "userId": "05966657769053220174"
     },
     "user_tz": -60
    },
    "id": "p0egaLJQAtJ3",
    "outputId": "bbde99e0-dfa2-4134-9a84-46f3b6b90d5a"
   },
   "outputs": [],
   "source": [
    "observations_df[[\"group\",\"admission_quiz\"]]"
   ]
  },
  {
   "cell_type": "code",
   "execution_count": null,
   "metadata": {
    "colab": {
     "base_uri": "https://localhost:8080/",
     "height": 178
    },
    "executionInfo": {
     "elapsed": 54,
     "status": "ok",
     "timestamp": 1747154116504,
     "user": {
      "displayName": "Monsurat Ayinde",
      "userId": "05966657769053220174"
     },
     "user_tz": -60
    },
    "id": "SWdVLv7MDbMc",
    "outputId": "78aba459-e706-4d34-9a13-33b1a883e6c5"
   },
   "outputs": [],
   "source": [
    "observations_df[\"group\"].value_counts()\n"
   ]
  },
  {
   "cell_type": "markdown",
   "metadata": {
    "id": "JSfO-Rs4DMOQ"
   },
   "source": [
    "# Simulate conversion outcome"
   ]
  },
  {
   "cell_type": "code",
   "execution_count": null,
   "metadata": {
    "colab": {
     "base_uri": "https://localhost:8080/"
    },
    "executionInfo": {
     "elapsed": 41,
     "status": "ok",
     "timestamp": 1747154116532,
     "user": {
      "displayName": "Monsurat Ayinde",
      "userId": "05966657769053220174"
     },
     "user_tz": -60
    },
    "id": "hY1Ey2-zDSYe",
    "outputId": "53b97493-5a65-4f13-e4aa-5c2276216de3"
   },
   "outputs": [],
   "source": [
    "import numpy as np\n",
    "\n",
    "# Seed for reproducibility\n",
    "np.random.seed(42)\n",
    "\n",
    "# Check what your actual group labels are\n",
    "print(\"Group labels:\", observations_df[\"group\"].unique())\n",
    "\n",
    "# Assign conversion probabilities matching those exact labels\n",
    "conversion_rate = {\n",
    "    \"no email (control)\": 0.15,    # 15% completion in control\n",
    "    \"email (treatment)\":   0.25     # 25% completion in treatment\n",
    "}\n",
    "\n",
    "# Simulate a “converted” flag\n",
    "def simulate_conversion(group_label):\n",
    "    \"\"\"Return True if user converts based on their group's probability.\"\"\"\n",
    "    return np.random.rand() < conversion_rate[group_label]\n",
    "\n",
    "observations_df[\"converted\"] = observations_df[\"group\"].apply(simulate_conversion)\n",
    "\n",
    "# Quick sanity check\n",
    "contingency = pd.crosstab(observations_df[\"group\"], observations_df[\"converted\"])\n",
    "contingency.columns = [\"Not Completed\", \"Completed\"]\n",
    "print(\"\\nContingency Table:\")\n",
    "print(contingency)\n"
   ]
  },
  {
   "cell_type": "code",
   "execution_count": null,
   "metadata": {
    "colab": {
     "base_uri": "https://localhost:8080/",
     "height": 542
    },
    "executionInfo": {
     "elapsed": 125,
     "status": "ok",
     "timestamp": 1747154116653,
     "user": {
      "displayName": "Monsurat Ayinde",
      "userId": "05966657769053220174"
     },
     "user_tz": -60
    },
    "id": "qTmyOhSf7eST",
    "outputId": "ad7dfaed-be50-4a45-b077-e5f3022afa05"
   },
   "outputs": [],
   "source": [
    "\n",
    "\n",
    "def build_contingency_bar(contingency):\n",
    "    \"\"\"\n",
    "    Create a side-by-side bar chart showing completed vs not completed\n",
    "    for control and treatment groups.\n",
    "\n",
    "    Parameters\n",
    "    ----------\n",
    "    contingency : pandas.DataFrame\n",
    "        A 2×2 contingency table with index = group and columns = ['Not Completed', 'Completed'].\n",
    "\n",
    "    Returns\n",
    "    -------\n",
    "    fig : plotly.graph_objs._figure.Figure\n",
    "    \"\"\"\n",
    "    # Convert to long form for easier plotting\n",
    "    df_plot = (\n",
    "        contingency\n",
    "        .reset_index()\n",
    "        .melt(id_vars=\"group\", value_vars=[\"Not Completed\", \"Completed\"],\n",
    "              var_name=\"Outcome\", value_name=\"Count\")\n",
    "    )\n",
    "\n",
    "    fig = px.bar(\n",
    "        df_plot,\n",
    "        x=\"group\",\n",
    "        y=\"Count\",\n",
    "        color=\"Outcome\",\n",
    "        barmode=\"group\",\n",
    "        title=\"Quiz Completion by Group\"\n",
    "    )\n",
    "    fig.update_layout(\n",
    "        xaxis_title=\"Group\",\n",
    "        yaxis_title=\"Number of Users\",\n",
    "        legend_title=\"Outcome\"\n",
    "    )\n",
    "    return fig\n",
    "\n",
    "# Usage\n",
    "fig = build_contingency_bar(contingency)\n",
    "fig.show()\n"
   ]
  },
  {
   "cell_type": "markdown",
   "metadata": {
    "id": "2i0Fcl3zGv9r"
   },
   "source": [
    "# In order to determine if this difference is more than random variation, we need to take our results, put them into a contingency table, and run a statistical test.\n"
   ]
  },
  {
   "cell_type": "markdown",
   "metadata": {
    "id": "CO1V5teNHgdC"
   },
   "source": [
    "## Instantiate a Table2x2 object named contingency_table, using the values from the data you created in the previous task."
   ]
  },
  {
   "cell_type": "code",
   "execution_count": null,
   "metadata": {
    "colab": {
     "base_uri": "https://localhost:8080/"
    },
    "executionInfo": {
     "elapsed": 21,
     "status": "ok",
     "timestamp": 1747154116675,
     "user": {
      "displayName": "Monsurat Ayinde",
      "userId": "05966657769053220174"
     },
     "user_tz": -60
    },
    "id": "gu5tZgBHFeXz",
    "outputId": "dc93288f-1aad-4991-bf9f-d8a436b2b4ee"
   },
   "outputs": [],
   "source": [
    "# Extract into a 2×2 numpy array:\n",
    "counts = np.array([\n",
    "    [\n",
    "        contingency.loc[\"no email (control)\", \"Not Completed\"],\n",
    "        contingency.loc[\"no email (control)\", \"Completed\"]\n",
    "    ],\n",
    "    [\n",
    "        contingency.loc[\"email (treatment)\", \"Not Completed\"],\n",
    "        contingency.loc[\"email (treatment)\", \"Completed\"]\n",
    "    ]\n",
    "], dtype=int)\n",
    "\n",
    "# 2. Instantiate Table2x2\n",
    "contingency_table = Table2x2(counts)\n",
    "\n",
    "# 3. Inspect\n",
    "print(\"contingency_table type:\", type(contingency_table))\n",
    "print(\"Original 2×2 array (table_orig):\\n\", contingency_table.table_orig)"
   ]
  },
  {
   "cell_type": "markdown",
   "metadata": {
    "id": "A3NKU4QfJp6y"
   },
   "source": [
    "# Calculate the fitted values for your contigency_table"
   ]
  },
  {
   "cell_type": "code",
   "execution_count": null,
   "metadata": {
    "colab": {
     "base_uri": "https://localhost:8080/"
    },
    "executionInfo": {
     "elapsed": 16,
     "status": "ok",
     "timestamp": 1747154116693,
     "user": {
      "displayName": "Monsurat Ayinde",
      "userId": "05966657769053220174"
     },
     "user_tz": -60
    },
    "id": "2SF5BfIFIXXf",
    "outputId": "46c04d33-31c9-4a08-92c0-786ec682221c"
   },
   "outputs": [],
   "source": [
    "contingency_table.fittedvalues"
   ]
  },
  {
   "cell_type": "markdown",
   "metadata": {
    "id": "L2nqsnnoeT4m"
   },
   "source": [
    "# Calculate the joint probabilities under independence for your contingency_table"
   ]
  },
  {
   "cell_type": "code",
   "execution_count": null,
   "metadata": {
    "colab": {
     "base_uri": "https://localhost:8080/"
    },
    "executionInfo": {
     "elapsed": 13,
     "status": "ok",
     "timestamp": 1747154282021,
     "user": {
      "displayName": "Monsurat Ayinde",
      "userId": "05966657769053220174"
     },
     "user_tz": -60
    },
    "id": "y_6Qzak9KKGd",
    "outputId": "d15c0fcf-efb3-4f98-88ee-ccc351b93b12"
   },
   "outputs": [],
   "source": [
    "# # Calculate independent joint probabilities\n",
    "contingency_table.independence_probabilities.round(3)"
   ]
  },
  {
   "cell_type": "markdown",
   "metadata": {
    "id": "r90WUk11hMXV"
   },
   "source": [
    "# Conduct Chi-Square Test\n",
    "\n",
    "All the previous calculations have shown us that some of the people who got an email went on to complete the quiz, but we don't know what might be driving that effect. After all, some people might be responding to getting an email, but others might have finished the quiz whether we emailed them or not. Either way, the effect we found could just as easily be due to chance as it could be a result of something we did. The only way to find out whether the result is due to chance is to calculate statistical significance.\n"
   ]
  },
  {
   "cell_type": "code",
   "execution_count": null,
   "metadata": {
    "colab": {
     "base_uri": "https://localhost:8080/"
    },
    "executionInfo": {
     "elapsed": 33,
     "status": "ok",
     "timestamp": 1747155352508,
     "user": {
      "displayName": "Monsurat Ayinde",
      "userId": "05966657769053220174"
     },
     "user_tz": -60
    },
    "id": "UXoYNu3veqww",
    "outputId": "26d0c5f2-5ad3-472f-88be-649e33f678f7"
   },
   "outputs": [],
   "source": [
    "chi_square_test = contingency_table.test_nominal_association()\n",
    "\n",
    "print(\"chi_square_test type:\", type(chi_square_test))\n",
    "print(chi_square_test)"
   ]
  },
  {
   "cell_type": "markdown",
   "metadata": {
    "id": "xC0KtnNZlxth"
   },
   "source": [
    "The important part of that result is the p-value. We set our threshold for significance at 0.05 way back at the beginning, so, for our results to be statistically significant, the p-value needs to be less than or equal to 0.05.\n",
    "\n",
    "Our p-value is 0.0258, which is less than 0.05. This means that the difference we saw in our side-by-side bar graph is unlikely to be due to chance. In other words, it appears to be a real effect — a signal, not just noise.\n",
    "\n",
    "So, we reject the null hypothesis and conclude that the email treatment had a statistically significant effect on conversion."
   ]
  },
  {
   "cell_type": "markdown",
   "metadata": {
    "id": "gNQZhxYomr3e"
   },
   "source": [
    "# Calculating Practical Impact\n",
    "\n",
    "Setting the issue of statistical significance aside for now, there's one more calculation that helps in interpreting and communicating the impact: the odds ratio. This tells us how much more likely someone in the treatment group is to complete the quiz compared to someone in the control group."
   ]
  },
  {
   "cell_type": "code",
   "execution_count": null,
   "metadata": {
    "colab": {
     "base_uri": "https://localhost:8080/"
    },
    "executionInfo": {
     "elapsed": 34,
     "status": "ok",
     "timestamp": 1747156032747,
     "user": {
      "displayName": "Monsurat Ayinde",
      "userId": "05966657769053220174"
     },
     "user_tz": -60
    },
    "id": "PluJR3a8kvos",
    "outputId": "81796f7d-a5af-4e91-a68d-90c5231fcabf"
   },
   "outputs": [],
   "source": [
    "odds_ratio = contingency_table.oddsratio.round(1)\n",
    "print(\"Odds ratio:\", odds_ratio)"
   ]
  },
  {
   "cell_type": "markdown",
   "metadata": {
    "id": "yHadZsBdob3L"
   },
   "source": [
    "Odds Ratio Interpretation:\n",
    "\n",
    "The odds ratio in our experiment is 1.7. This means that for every 1 person in the control group who completes the quiz, approximately 1.7 people in the treatment group do. In simpler terms, someone in the email treatment group is 70% more likely to complete the quiz compared to someone in the no email control group.\n",
    "\n",
    "Unlike in cases where the result is not statistically significant, here our p-value was 0.0258, which is below the 0.05 threshold. That means the difference we observed is unlikely to be due to random chance. So, in this case, the odds ratio is both statistically and practically meaningful, and it provides a useful summary of the treatment’s effect.\n",
    "\n",
    "However, as always, it's important to consider context:\n",
    "\n",
    "Is the 70% increase in odds large enough to justify a real-world change in behavior (like running a daily email campaign)?\n",
    "\n",
    "Are there costs or tradeoffs involved in implementing the treatment that outweigh the benefits?\n",
    "\n",
    "This is where practical significance must complement statistical significance when making business decisions."
   ]
  },
  {
   "cell_type": "markdown",
   "metadata": {
    "id": "wVYJpTG9ooSE"
   },
   "source": [
    "# Summary"
   ]
  },
  {
   "cell_type": "code",
   "execution_count": null,
   "metadata": {
    "colab": {
     "base_uri": "https://localhost:8080/",
     "height": 143
    },
    "executionInfo": {
     "elapsed": 90,
     "status": "ok",
     "timestamp": 1747156469979,
     "user": {
      "displayName": "Monsurat Ayinde",
      "userId": "05966657769053220174"
     },
     "user_tz": -60
    },
    "id": "ZAj5sfRSnVq2",
    "outputId": "8415bb40-a5af-4740-b808-6f5af87a7252"
   },
   "outputs": [],
   "source": [
    "summary = contingency_table.summary()\n",
    "print(\"summary type:\", type(summary))\n",
    "summary"
   ]
  },
  {
   "cell_type": "markdown",
   "metadata": {
    "id": "I5Ex87QWobTB"
   },
   "source": []
  }
 ],
 "metadata": {
  "colab": {
   "authorship_tag": "ABX9TyNeRlXhMLHSq5pKqZOO2X6j",
   "provenance": []
  },
  "kernelspec": {
   "display_name": "Python 3 (ipykernel)",
   "language": "python",
   "name": "python3"
  },
  "language_info": {
   "codemirror_mode": {
    "name": "ipython",
    "version": 3
   },
   "file_extension": ".py",
   "mimetype": "text/x-python",
   "name": "python",
   "nbconvert_exporter": "python",
   "pygments_lexer": "ipython3",
   "version": "3.13.2"
  }
 },
 "nbformat": 4,
 "nbformat_minor": 4
}
